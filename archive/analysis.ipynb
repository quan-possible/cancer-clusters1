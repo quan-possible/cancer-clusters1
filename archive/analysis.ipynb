{
 "cells": [
  {
   "cell_type": "code",
   "execution_count": null,
   "metadata": {},
   "outputs": [],
   "source": [
    "\n",
    "\n",
    "m = []\n",
    "\n",
    "for k in range(K):\n",
    "    Ck = np.where(Cmain==k)[0]\n",
    "    # Get pairs of indices within the same cluster across all runs\n",
    "    Nk = len(Ck)\n",
    "    \n",
    "    # Sum the consensus matrix values for all unique sample pairs in cluster k\n",
    "    consensus_sum = 0\n",
    "    for i in range(Nk):\n",
    "        for j in range(i + 1, Nk):\n",
    "            consensus_sum += M[Ck[i], Ck[j]]\n",
    "    \n",
    "    # Number of unique pairs in cluster k is \"N choose 2\"\n",
    "    num_pairs = Nk * (Nk - 1) / 2\n",
    "    \n",
    "    # Calculate the consensus index for cluster k\n",
    "    m.append(consensus_sum / num_pairs)\n",
    "    \n",
    "# consensus_indices\n",
    "m"
   ]
  }
 ],
 "metadata": {
  "language_info": {
   "name": "python"
  }
 },
 "nbformat": 4,
 "nbformat_minor": 2
}
